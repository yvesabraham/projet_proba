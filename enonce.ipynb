{
 "cells": [
  {
   "cell_type": "markdown",
   "metadata": {},
   "source": [
    "# Projet numérique de probabilités \n",
    "\n",
    "## Préambule\n",
    "\n",
    "Dans ce projet, on va chercher à développer un algorithme permettant de générer des textures aléatoires reprenant certaines caractéristiques du mouvement brownien.\n",
    "Dans un premier temps, on va s'intéresser à construire le mouvement brownien en une dimension comme limite d'une marche aléatoire. On verra ensuite une construction alternative qui permettra de conserver certaines de ses propriétés puis on la généralisera à 2 dimensions.\n"
   ]
  },
  {
   "cell_type": "markdown",
   "metadata": {},
   "source": [
    "# Marche aléatoire\n",
    "\n",
    "Soit $(X_i)_{i\\in \\mathbb{N}^\\ast}$ une suite de variables aléatoires indépendantes telle que :\n",
    "\n",
    "$$\\mathbb{P}(X_i=x) = \\left\\{\\begin{array}{ll}\n",
    "\\frac{1}{2} & \\text{ si } x=1\\\\\n",
    "\\frac{1}{2} & \\text{ si } x=-1\\\\\n",
    "\\end{array}\\right.\n",
    "\\forall i\\geq 1$$\n",
    "\n",
    "On considère la suite $(Y_n)_{n \\in \\mathbb{N}}$, où $Y_0 = 0$ et \n",
    "$$Y_n=\\sum_{i=1}^{n}X_i$$\n"
   ]
  },
  {
   "cell_type": "markdown",
   "metadata": {},
   "source": [
    "1. Calculer l'espérance et la variance de $X_i$.\n",
    "2. En déduire l'espérance et la variance de $Y_n$.\n",
    "3. Montrer que $\\forall n \\in \\mathbb{N}$, $\\mathbb{P}_{Y_n|Y_{n-1} = y_{n-1}, \\ldots, Y_{0} = y_{0}} = \\mathbb{P}_{Y_n|Y_{n-1} = y_{n-1}}$. On dit que la suite $(Y_n)_{n \\in \\mathbb{N}}$ possède la propriété de Markov.\n",
    "4. Montrer que $\\mathrm{Cov}(Y_n,Y_{n'}) = \\min(n,n')$ puis que $\\frac12\\mathbb{E}\\left(Y_n-Y_{n+h}\\right)^2 = h/2$, pour $h>0$. Cette dernière quantité s'appelle le variogramme de $Y_n$ et peut s'interpréter comme une quantification de sa régularité.\n",
    "5. Utiliser le théorème central limite pour montrer que\n",
    "  $$\\frac{Y_n}{\\sqrt{n}}\\xrightarrow[n \\to \\infty]{\\mathcal{L}}\\mathcal{N}(0,1),$$\n"
   ]
  },
  {
   "cell_type": "code",
   "execution_count": 2,
   "metadata": {},
   "outputs": [
    {
     "name": "stdout",
     "output_type": "stream",
     "text": [
      "Populating the interactive namespace from numpy and matplotlib\n"
     ]
    }
   ],
   "source": [
    "# chargement de dépendances\n",
    "%pylab inline\n",
    "import scipy.stats as sps"
   ]
  },
  {
   "cell_type": "code",
   "execution_count": 12,
   "metadata": {},
   "outputs": [],
   "source": [
    "# Initialisation de la graine\n",
    "np.random.seed(1234)"
   ]
  },
  {
   "cell_type": "markdown",
   "metadata": {},
   "source": [
    "# Comportement asymptotique\n",
    "\n",
    "On introduit maintenant $t_i=\\frac{i}{n}, i=0,\\ldots,n$ et\n",
    "$$Z^{(n)}_t= \\frac{Y_{[nt]}}{\\sqrt{n}}, t\\in[0,1],$$\n",
    "où $[\\cdot]$ est la partie entière.\n",
    "\n",
    "1. Montrer que $\\bigcup_{i=0}^{n-1}(t_i,t_{i+1}]$ forme une partition de $(0,1]$.\n",
    "\n",
    "2. Montrer que $Z^{(n)}_t=Z^{(n)}_{t_i}$ pour $i=[nt]$.\n",
    "\n",
    "3. Par conséquent, $Z^{(n)}_t, t\\in[0,1]$ est bien défini $\\forall t \\in [0,1]$. Implémenter un algorithme pour simuler $Z^{(n)}_t$ aux points $t_i,~ i \\in\\{0,\\ldots,n\\}$. Représenter une trajectoire pour $n$=1000.\n",
    "\n"
   ]
  },
  {
   "cell_type": "code",
   "execution_count": null,
   "metadata": {},
   "outputs": [],
   "source": []
  },
  {
   "cell_type": "markdown",
   "metadata": {},
   "source": [
    "4. Montrer que $Z^{(n)}_t\\xrightarrow[n \\to \\infty]{\\mathcal{L}}\\mathcal{N}(0,t),~\\forall t \\in [0,1]$, en déduire la loi de $Z^{(n)}_1=\\frac{Y_n}{\\sqrt{n}}$ quand $n$\n",
    "  tend vers l'infini.\n",
    "  Construire un échantillon de taille 1000 de valeurs de $Z^{(n)}_1$ pour n = 1000. Représenter son histogramme et le comparer avec la densité gaussienne standard.\n",
    "\n"
   ]
  },
  {
   "cell_type": "code",
   "execution_count": null,
   "metadata": {},
   "outputs": [],
   "source": []
  },
  {
   "cell_type": "markdown",
   "metadata": {},
   "source": [
    "**Remarque**\n",
    "\n",
    "${\\bf Z}_t=\\lim_{n \\to \\infty} Z^{(n)}_t$ est le mouvement brownien standard sur $[0,1]$. \n"
   ]
  },
  {
   "cell_type": "markdown",
   "metadata": {},
   "source": [
    "# Une construction alternative\n",
    "\n",
    "On considère maintenant la construction suivante, définie pour tout $t \\in [0,1]$:\n",
    "$$\\tilde{Z}^{(n)}_t = \\frac{1}{\\sqrt{n}}\\sum_{i=1}^n X_i (1_{[0,U_i]}(t)-1_{]U_i,1]}(t))$$\n",
    "où les $X_i$ sont définis tels que précédemment et les $U_i$ sont des variables aléatoires i.i.d. de loi uniforme sur $[0,1]$.\n",
    "Cette construction permet de définir un algorithme alternatif de simulation d'une (approximation de) trajectoire brownienne, cette fois-ci non standard au sens où on n'a pas systématiquement $\\tilde{Z}^{(n)}_0 = 0$.\n",
    "\n",
    "1. Discrétiser l'intervalle $[0,1]$ en 1000 points de manière régulière et implémenter l'algorithme (commencer par n = 1). Représenter une trajectoire pour $n = 1000$."
   ]
  },
  {
   "cell_type": "code",
   "execution_count": null,
   "metadata": {},
   "outputs": [],
   "source": []
  },
  {
   "cell_type": "markdown",
   "metadata": {},
   "source": [
    "2. Calculer l'espérance et la variance de $\\tilde{Z}^{(n)}_t$. En déduire que $\\forall t \\in [0,1],~ \\tilde{Z}^{(n)}_t\\xrightarrow[n \\to \\infty]{\\mathcal{L}}\\mathcal{N}(0,1)$. Le vérifier expérimentalement aux points $\\{0,0.25,0.5,0.75,1\\}$ sur la base d'un échantillon de 1000 réalisations de $\\tilde{Z}^{(n)}$."
   ]
  },
  {
   "cell_type": "code",
   "execution_count": null,
   "metadata": {},
   "outputs": [],
   "source": []
  },
  {
   "cell_type": "markdown",
   "metadata": {},
   "source": [
    "3. Montrer que $\\frac12\\mathbb{E}\\left(\\tilde{Z}^{(n)}_t-\\tilde{Z}^{(n)}_{t+h}\\right)^2 = h$ pour $h>0$ et tel que $t+h \\leq 1$.\n",
    "\n",
    "4. Le vérifier expérimentalement en calculant $\\frac1{2\\text{card}\\{(i,j),|t_i-t_j|=h\\}}\\sum_{|t_i-t_j|=h}(\\tilde{Z}^{n}_{t_i} - \\tilde{Z}^{n}_{t_j})^2$, où $\\text{card}\\{(i,j),|t_i-t_j|=h\\}$ représente le nombre de couples $(t_i,t_j)$ distants de $h$, pour $h \\in \\{0.001,0.002,\\ldots,0.3\\}$. Représenter graphiquement cette quantité."
   ]
  },
  {
   "cell_type": "code",
   "execution_count": null,
   "metadata": {},
   "outputs": [],
   "source": []
  },
  {
   "cell_type": "markdown",
   "metadata": {},
   "source": [
    "5. Décrire les différences et les similarités entre les deux approches."
   ]
  },
  {
   "cell_type": "markdown",
   "metadata": {},
   "source": [
    "# Génération de texture\n",
    "\n",
    "L'algorithme précédent présente la propriété d'être aisément généralisable aux dimensions supérieures, contrairement au premier. Nous allons maintenant construire pas à pas un algorithme pour simuler selon ce modèle sur le domaine $[-1, 1]^2$. Comme dans le cas 1D, on va procéder par séparations aléatoires du domaine. Pour ce faire, nous allons simuler des droites aléatoires, avec la paramétrisation suivante :\n",
    "$$x \\cos(\\alpha) + y \\sin(\\alpha) = p,$$\n",
    "où $x,y \\in [0,1]$ sont les coordonnées, $\\alpha \\sim \\mathcal{U}_{[0,\\pi]}$ est la variable d'*orientation*, $p \\sim \\mathcal{U}_{[-\\sqrt{2},\\sqrt{2}]}$ est la variable de *position*.\n",
    "\n",
    "1. Représenter 10 droites aléatoires sur le domaine $[-1, 1]^2$."
   ]
  },
  {
   "cell_type": "code",
   "execution_count": null,
   "metadata": {},
   "outputs": [],
   "source": []
  },
  {
   "cell_type": "markdown",
   "metadata": {},
   "source": [
    "2. L'étape suivante consiste à attribuer une valeur +1 ou -1 à chaque partie du domaine, délimitées par une droite aléatoire. Générer une droite aléatoire, puis assigner une valeur aléatoire +1 ou -1 en tous points d'une grille régulière de discrétisation du domaine $[-1,1]^2$ de dimensions 200x200 (voir **np.meshgrid** et **plt.pcolormesh**)."
   ]
  },
  {
   "cell_type": "code",
   "execution_count": null,
   "metadata": {},
   "outputs": [],
   "source": []
  },
  {
   "cell_type": "markdown",
   "metadata": {},
   "source": [
    "3. Combiner les résultats des deux questions précédentes pour générer une réalisation de $\\tilde{Z}$ sur $[-1,1]^2$ pour $n = 100, 1000$ et $10000$ sur la même grille de discrétisation. Commenter. "
   ]
  },
  {
   "cell_type": "code",
   "execution_count": null,
   "metadata": {},
   "outputs": [],
   "source": []
  },
  {
   "cell_type": "markdown",
   "metadata": {},
   "source": [
    "4. Calculer $\\frac1{2\\text{card}\\{(i,j),|t_i-t_j|=h\\}}\\sum_{|t_i-t_j|=h}(\\tilde{Z}^{n}_{t_i} - \\tilde{Z}^{n}_{t_j})^2$ pour $h \\in \\{0.001,0.002,\\ldots,0.3\\}$ le long des axes verticaux et horizontaux. Tracer le graphique correspondant. Commenter."
   ]
  },
  {
   "cell_type": "code",
   "execution_count": null,
   "metadata": {},
   "outputs": [],
   "source": []
  },
  {
   "cell_type": "markdown",
   "metadata": {},
   "source": [
    "5. Générer une réalisation de $\\tilde{Z}$ sur $[-10,10]^2$. On prendra soin de modifier la loi des paramètres des droites aléatoires en conséquence. Commenter. "
   ]
  },
  {
   "cell_type": "code",
   "execution_count": null,
   "metadata": {},
   "outputs": [],
   "source": []
  },
  {
   "cell_type": "markdown",
   "metadata": {},
   "source": [
    "6. Une généralisation à deux dimensions d'une discrétisation du mouvement brownien standard peut être définie de la manière suivante : notant $(x_i,y_i)$ les coordonnées des points de la grille de discrétisation du domaine $[0,1]^2$, le vecteur formé des $Z_{(x_i,y_i)}$ est gaussien, centré et de covariance $\\text{Cov} = \\min(x_i,x_j) \\times \\min(y_i,y_j)$. Proposer et implémenter un algorithme de simulation de ce modèle sur une grille régulière de discrétisation du domaine $[0,1]^2$. Quelles difficultés rencontrez-vous ?"
   ]
  },
  {
   "cell_type": "code",
   "execution_count": null,
   "metadata": {},
   "outputs": [],
   "source": []
  }
 ],
 "metadata": {
  "@webio": {
   "lastCommId": "5ceb69a5bbd14071b254c2439a58ac4b",
   "lastKernelId": "0e923419-c540-42c1-ab5f-d0e05ff4521c"
  },
  "interpreter": {
   "hash": "f522921533d2649179f334ac53b5b066697b613ca03abe8a39e886b5049f2d92"
  },
  "kernelspec": {
   "display_name": "Python 3.8.6 64-bit",
   "name": "python3"
  },
  "language_info": {
   "codemirror_mode": {
    "name": "ipython",
    "version": 3
   },
   "file_extension": ".py",
   "mimetype": "text/x-python",
   "name": "python",
   "nbconvert_exporter": "python",
   "pygments_lexer": "ipython3",
   "version": "3.8.6"
  }
 },
 "nbformat": 4,
 "nbformat_minor": 2
}
