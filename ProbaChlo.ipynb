{
 "cells": [
  {
   "cell_type": "markdown",
   "metadata": {},
   "source": [
    "# Projet numérique de probabilités \n",
    "\n",
    "## Préambule\n",
    "\n",
    "Dans ce projet, on va chercher à développer un algorithme permettant de générer des textures aléatoires reprenant certaines caractéristiques du mouvement brownien.\n",
    "Dans un premier temps, on va s'intéresser à construire le mouvement brownien en une dimension comme limite d'une marche aléatoire. On verra ensuite une construction alternative qui permettra de conserver certaines de ses propriétés puis on la généralisera à 2 dimensions.\n"
   ]
  },
  {
   "cell_type": "code",
   "execution_count": 33,
   "metadata": {},
   "outputs": [],
   "source": [
    "import numpy as np\n",
    "import random as rd"
   ]
  },
  {
   "cell_type": "markdown",
   "metadata": {},
   "source": [
    "# Marche aléatoire\n",
    "\n",
    "Soit $(X_i)_{i\\in \\mathbb{N}^\\ast}$ une suite de variables aléatoires indépendantes telle que :\n",
    "\n",
    "$$\\mathbb{P}(X_i=x) = \\left\\{\\begin{array}{ll}\n",
    "\\frac{1}{2} & \\text{ si } x=1\\\\\n",
    "\\frac{1}{2} & \\text{ si } x=-1\\\\\n",
    "\\end{array}\\right.\n",
    "\\forall i\\geq 1$$\n",
    "\n",
    "On considère la suite $(Y_n)_{n \\in \\mathbb{N}}$, où $Y_0 = 0$ et \n",
    "$$Y_n=\\sum_{i=1}^{n}X_i$$\n"
   ]
  },
  {
   "cell_type": "markdown",
   "metadata": {},
   "source": [
    "1. Calculer l'espérance et la variance de $X_i$."
   ]
  },
  {
   "cell_type": "markdown",
   "metadata": {},
   "source": [
    "Réponse : \n",
    "\n",
    "Soit i un entier naturel non nul. \n",
    "On utilise la formule de l'espérance dans le cas discret : \n",
    "\n",
    "$$\n",
    "\\mathbb{E}(X_i) = \\mathbb{P}(X_i=1)-\\mathbb{P}(X_i=1) = 0.\n",
    "$$\n",
    "\n",
    "Nous allons maintenant calculer $\\mathbb{E}(X_i^2)$ pour accéder à la variance.\n",
    "\n",
    "$$\n",
    "\\mathbb{E}(X_i^2) =  \\mathbb{P}(X_i=1)+\\mathbb{P}(X_i=1) = 1\n",
    "$$\n",
    "\n",
    "De sorte que \n",
    "\n",
    "$$\n",
    "\\mathbb{V}(X_i) = \\mathbb{E}(X_i^2) - \\mathbb{E}(X_i)^2 = 1\n",
    "$$\n",
    "\n",
    "Nous avons à faire à une suite de variables alératoires centrées réduites.\n",
    "\n"
   ]
  },
  {
   "cell_type": "markdown",
   "metadata": {},
   "source": [
    "2. En déduire l'espérance et la variance de $Y_n$."
   ]
  },
  {
   "cell_type": "markdown",
   "metadata": {},
   "source": [
    "Réponse : \n",
    "Soit n un entier naturel.\n",
    "On utilise la linéarité de l'espérance : \n",
    "\n",
    "$$\n",
    "\\mathbb{E}(Y_n) =  \\mathbb{E}(\\sum_{i=1}^{n} X_i) = \\sum_{i=1}^{n} \\mathbb{E}(X_i) = \\sum_{i=1}^{n}0 = 0\n",
    "$$\n",
    "\n",
    "Par indépendance des termes de la suite $(X_i)_{i\\in \\mathbb{N}^\\ast}$, on peut calculer la variance de $Y_n$ ainsi :\n",
    "\n",
    "$$\n",
    "\\mathbb{V}(Y_n) =  \\mathbb{V}(\\sum_{i=1}^{n} X_i) = \\sum_{i=1}^{n} \\mathbb{V}(X_i) = \\sum_{i=1}^{n}1 = n\n",
    "$$\n"
   ]
  },
  {
   "cell_type": "markdown",
   "metadata": {},
   "source": [
    "3. Montrer que $\\forall n \\in \\mathbb{N}$, $\\mathbb{P}_{Y_n|Y_{n-1} = y_{n-1}, \\ldots, Y_{0} = y_{0}} = \\mathbb{P}_{Y_n|Y_{n-1} = y_{n-1}}$. On dit que la suite $(Y_n)_{n \\in \\mathbb{N}}$ possède la propriété de Markov."
   ]
  },
  {
   "cell_type": "markdown",
   "metadata": {},
   "source": [
    "Réponse : \n",
    "Soit n un entier naturel non nul.\n",
    "Soit $y_n$ un entier relatif. \n",
    "\n",
    "On remarque d'abord que $\\mathbb{P}(Y_n= y_n|Y_{n-1} = y_{n-1}) =\\mathbb{P}(X_n = y_n - y_{n-1})$. En effet, une fois la valeur de $$Y_{n-1}=\\sum_{i=1}^{n-1}X_i$$ fixée, la probabilité d'avoir une certaine valeur de $$Y_n=\\sum_{i=1}^{n}X_i$$ dépend directement uniquement de la valeur du dernier terme de la somme.\n",
    "Avec la même remarque consistant à dire que donner la valeur de $$Y_n=\\sum_{i=1}^{n}X_i$$ est une information suffisante pour connaître la probabilité d'obtention d'une certaine valeur de $$Y_n=\\sum_{i=1}^{n}X_i$$, on déduit directement la proposition."
   ]
  },
  {
   "cell_type": "markdown",
   "metadata": {},
   "source": [
    "4. Montrer que $\\mathrm{Cov}(Y_n,Y_{n'}) = \\min(n,n')$ puis que $\\frac12\\mathbb{E}\\left(Y_n-Y_{n+h}\\right)^2 = h/2$, pour $h>0$. Cette dernière quantité s'appelle le variogramme de $Y_n$ et peut s'interpréter comme une quantification de sa régularité."
   ]
  },
  {
   "cell_type": "markdown",
   "metadata": {},
   "source": [
    "Réponse :\n",
    "Il est équivalent de montrer que pour tout $(n,h)$ couple d'enntiers naturels, on a  $\\mathrm{Cov}(Y_n,Y_{n+h}) = n$. Nous démontrer cette propriété par récurrence sur h, à n fixé quelconque.\n",
    "\n",
    "Initialisation : le cas h = 0 est vérifié car on a bien $\\mathrm{Cov}(Y_n,Y_{n})=\\mathbb{V}(Y_n) = n$.\n",
    "\n",
    "Hérédité : soit h un entier naturel tel qu'on ait $\\mathrm{Cov}(Y_n,Y_{n+h}) = n$, montrons que $\\mathrm{Cov}(Y_n,Y_{n+h+1}) = n$.\n",
    "On a, en utilisant notamment la linéarité à droite de la covariance et l'hypothèse de récurrence : \n",
    "\n",
    "$$\n",
    "\\mathrm{Cov}(Y_n,Y_{n+h+1}) = \\mathrm{Cov}(Y_n,Y_{n+h}+X_{n+h+1}) = \\mathrm{Cov}(Y_n,Y_{n+h})+\\mathrm{Cov}(Y_n,X_{n+h+1}) = n + \\mathrm{Cov}(Y_n,X_{n+h+1})\n",
    "$$\n",
    "\n",
    "Par ailleurs, par indépendance des termes de la suite  $(X_i)_{i\\in \\mathbb{N}^\\ast}$, puisque $Y_n$ est une fonction des $X_i$ pour i allant de 1 à $n$, et que $n+h+1$ est strictement surpérieur à $n$, on $Y_n$ qui est indépendant de $X_{n+h+1}$ et donc $\\mathrm{Cov}(Y_n,X_{n+h+1}) = 0$.\n",
    "\n",
    "On a donc bien $\\mathrm{Cov}(Y_n,Y_{n+h+1}) = n$ ce qui termine la récurrence et permet de conclure la première partie de la question. \n",
    "\n",
    "Par ailleurs, en utilisant la linéarité de l'espérance, \n",
    "\n",
    "$$\n",
    "\\mathbb{E}((Y_n-Y_{n+h})^2) = \\mathbb{E}(Y_n^2) - 2\\mathbb{E}(Y_{n+h}Y_{n}) + \\mathbb{E}(Y_{n+h}^2)\n",
    "= \\mathbb{V}(Y_n) + \\mathbb{E}(Y_n)^2 - 2(\\mathrm{Cov}(Y_{n+h},Y_{n})+ \\mathbb{E}(Y_{n+h})\\mathbb{E}(Y_{n}))+ \\mathbb{V}(Y_{n+h}) + \\mathbb{E}(Y_{n+h})^2 \n",
    "= n + 0 - 2 (n + 0^2) + (n+h) + 0 \n",
    "= h\n",
    "$$"
   ]
  },
  {
   "cell_type": "markdown",
   "metadata": {},
   "source": [
    "5. Utiliser le théorème central limite pour montrer que\n",
    "  $$\\frac{Y_n}{\\sqrt{n}}\\xrightarrow[n \\to \\infty]{\\mathcal{L}}\\mathcal{N}(0,1),$$"
   ]
  },
  {
   "cell_type": "markdown",
   "metadata": {},
   "source": [
    "Réponse :\n",
    "On remarque d'abord que $Y_n$ est une somme de variables indépendantes identiquement distribuées de $L^2$. Le théorème centrale limite permet donc, puisque les variables de la suite  $(X_i)_{i\\in \\mathbb{N}^\\ast}$ sont centrées réduites, de conclure directement :\n",
    "  $$\\frac{Y_n}{\\sqrt{n}}\\xrightarrow[n \\to \\infty]{\\mathcal{L}}\\mathcal{N}(0,1),$$"
   ]
  },
  {
   "cell_type": "code",
   "execution_count": 2,
   "metadata": {},
   "outputs": [
    {
     "name": "stdout",
     "output_type": "stream",
     "text": [
      "Populating the interactive namespace from numpy and matplotlib\n"
     ]
    }
   ],
   "source": [
    "# chargement de dépendances\n",
    "%pylab inline\n",
    "import scipy.stats as sps"
   ]
  },
  {
   "cell_type": "code",
   "execution_count": 3,
   "metadata": {},
   "outputs": [],
   "source": [
    "# Initialisation de la graine\n",
    "np.random.seed(1234)"
   ]
  },
  {
   "cell_type": "markdown",
   "metadata": {},
   "source": [
    "# Comportement asymptotique\n",
    "\n",
    "On introduit maintenant $t_i=\\frac{i}{n}, i=0,\\ldots,n$ et\n",
    "$$Z^{(n)}_t= \\frac{Y_{[nt]}}{\\sqrt{n}}, t\\in[0,1],$$\n",
    "où $[\\cdot]$ est la partie entière.\n",
    "\n",
    "1. Montrer que $\\bigcup_{i=0}^{n-1}(t_i,t_{i+1}]$ forme une partition de $(0,1]$."
   ]
  },
  {
   "cell_type": "markdown",
   "metadata": {},
   "source": [
    "Montrons que l'on a bien une partition. On note, pour $i$ un entier naturel compris entre 0 et $n$ : $A_i = (t_i,t_{i+1}]$.\n",
    "- Aucun des éléments de la famille $(A_i)$ n'est l'ensemble vide car on a toujours $t_i<t_{i+1}$\n",
    "- On remarque aussi que la famille des $(A_i)$ est bien une famille d'ensemble disjoints deux à deux\n",
    "- Enfin, on remarque (par récurrence par exemple) que pour k un entier naturel inférieur ou égal à n-1, $ \\bigcup_{i=0}^{k}(t_i,t_{i+1}] = (0, \\frac{k+1}{n}] $, et donc on trouve, pour k = n-1 $ \\bigcup_{i=0}^{n-1}(t_i,t_{i+1}] = (0, \\frac{n}{n}] = (0, 1]$ ce qui permet de conclure."
   ]
  },
  {
   "cell_type": "markdown",
   "metadata": {},
   "source": [
    "\n"
   ]
  },
  {
   "cell_type": "markdown",
   "metadata": {},
   "source": [
    "2. Montrer que $Z^{(n)}_t=Z^{(n)}_{t_i}$ pour $i=[nt]$."
   ]
  },
  {
   "cell_type": "markdown",
   "metadata": {},
   "source": [
    "Soit n un entier naturel et t un réel de [0,1].\n",
    "Puisque $[nt]$ est entier, par définition : $[[nt]] = [nt]$.\n",
    "De sorte que : \n",
    "$$\n",
    "Z^{(n)}_{t_i} = \\frac{Y_{[nt_i]}}{\\sqrt{n}} \n",
    "= \\frac{Y_{[n\\frac{[nt]}{n}]}}{\\sqrt{n}} \n",
    "= \\frac{Y_{[[nt]]}}{\\sqrt{n}} \n",
    "= \\frac{Y_{[nt]}}{\\sqrt{n}} \n",
    "= Z^{(n)}_t\n",
    "$$\n",
    " "
   ]
  },
  {
   "cell_type": "markdown",
   "metadata": {},
   "source": [
    "3. Par conséquent, $Z^{(n)}_t, t\\in[0,1]$ est bien défini $\\forall t \\in [0,1]$. Implémenter un algorithme pour simuler $Z^{(n)}_t$ aux points $t_i,~ i \\in\\{0,\\ldots,n\\}$. Représenter une trajectoire pour $n$=1000."
   ]
  },
  {
   "cell_type": "code",
   "execution_count": 6,
   "metadata": {},
   "outputs": [],
   "source": [
    "n = 1000 \n",
    "Y = 0 # somme des déplacements\n",
    "parcours = [] # liste des positions occupées à chaque étape\n",
    "\n",
    "for k in range(n+1):\n",
    "\n",
    "    X_k = np.random.binomial(1,0.5)# on fait appel à une loi de Bernouilli pour simuler X_k\n",
    "    \n",
    "    if X_k == 0: # déplacement vers le bas\n",
    "        Y = Y - 1\n",
    "        \n",
    "    else:\n",
    "        Y = Y + 1 # déplacement vers le haut\n",
    "        \n",
    "    parcours.append(Y) # on ajoute la nouvelle position à l'historique"
   ]
  },
  {
   "cell_type": "code",
   "execution_count": 7,
   "metadata": {},
   "outputs": [
    {
     "data": {
      "image/png": "[encoded data removed]",
      "text/plain": [
       "<Figure size 432x288 with 1 Axes>"
      ]
     },
     "metadata": {
      "needs_background": "light"
     },
     "output_type": "display_data"
    }
   ],
   "source": [
    "#Tracé \n",
    "\n",
    "plt.plot(range(n+1),parcours)\n",
    "plt.xlabel('étape')\n",
    "plt.ylabel('trajectoire')\n",
    "plt.show()"
   ]
  },
  {
   "cell_type": "markdown",
   "metadata": {},
   "source": [
    "4. Montrer que $Z^{(n)}_t\\xrightarrow[n \\to \\infty]{\\mathcal{L}}\\mathcal{N}(0,t),~\\forall t \\in [0,1]$, en déduire la loi de $Z^{(n)}_1=\\frac{Y_n}{\\sqrt{n}}$ quand $n$\n",
    "  tend vers l'infini.\n",
    "  Construire un échantillon de taille 1000 de valeurs de $Z^{(n)}_1$ pour n = 1000. Représenter son histogramme et le comparer avec la densité gaussienne standard.\n",
    "\n"
   ]
  },
  {
   "cell_type": "code",
   "execution_count": 30,
   "metadata": {},
   "outputs": [],
   "source": [
    "#construction échantillon\n",
    "échantillon = []\n",
    "n = 1000 \n",
    "taille_éch = 1000\n",
    "Y = 0 # somme des déplacements\n",
    "\n",
    "for m in range(taille_éch):\n",
    "    \n",
    "    for k in range(n+1):\n",
    "\n",
    "        X_k = np.random.binomial(1,0.5)#on fait appel à une loi de Bernouilli\n",
    "    \n",
    "        if X_k == 0: # déplacement vers le bas\n",
    "            Y = Y -1\n",
    "        \n",
    "        else:\n",
    "            Y = Y + 1 # déplacement vers le haut\n",
    "        \n",
    "    échantillon.append(Y/np.sqrt(n))"
   ]
  },
  {
   "cell_type": "code",
   "execution_count": 31,
   "metadata": {},
   "outputs": [
    {
     "data": {
      "text/plain": [
       "[<matplotlib.lines.Line2D at 0x127c6a340>]"
      ]
     },
     "execution_count": 31,
     "metadata": {},
     "output_type": "execute_result"
    },
    {
     "data": {
      "image/png": "[encoded data removed]",
      "text/plain": [
       "<Figure size 432x288 with 1 Axes>"
      ]
     },
     "metadata": {
      "needs_background": "light"
     },
     "output_type": "display_data"
    }
   ],
   "source": [
    "plt.hist(échantillon, density = True)\n",
    "X = np.linspace(-50,50,200)\n",
    "plt.plot(X,[np.exp(-x**2/2)/(np.sqrt(np.pi*2)) for x in X])"
   ]
  },
  {
   "cell_type": "markdown",
   "metadata": {},
   "source": [
    "Soit t un réel de [0,1]. Montrons $Z^{(n)}_t\\xrightarrow[n \\to \\infty]{\\mathcal{L}}\\mathcal{N}(0,t)$.\n",
    "On sait que si $(X_n)$ est une suite de variable aléatoire convergeant en loi vers une loi normale centrée réduite, et $(a_n)$ une suite de réels convergeant vers a, alors $(a_nX_n)$ converge en loi vers une loi normale centrée d'écart-type a.\n",
    "On sait d'après la partie précédente que \n",
    "  $$\\frac{Y_{[nt]}}{\\sqrt{[nt]}}\\xrightarrow[n \\to \\infty]{\\mathcal{L}}\\mathcal{N}(0,1),$$\n",
    "Or :\n",
    "$$\n",
    "Z^{(n)}_t = \\frac{Y_{[nt]}}{\\sqrt{n}} = \\frac{Y_{[nt]}}{\\sqrt{[nt]}}\\sqrt{\\frac{[nt]}{{n}}}\n",
    "$$\n",
    "Mais par ailleurs, on sait que [x] et x sont équivalents en plus infini (cela se prouve en montrant que le quotient $\\frac{x}{[x]}$ tend vers 1 quand $x$ tend vers plus l'infini grâce à l'encadrement $[x]\\leq x \\le [x]+1$). \n",
    "On déduit alors que $\\sqrt{\\frac{[nt]}{{n}}}$ tend vers $t$ quand n tend vers +infini.\n",
    "On se trouve alors dans le cas explicité au début avec $X_n = \\frac{Y_{[nt]}}{\\sqrt{[nt]}}$ et $a_n = \\sqrt{\\frac{[nt]}{{n}}}$ tendant vers $a = t$.\n",
    "On déduit donc le résultat."
   ]
  },
  {
   "cell_type": "markdown",
   "metadata": {},
   "source": [
    "Démonstration du résultat annoncé plus haut. Soit (Xn) convergeant en loivers une loi normale centrée réduite et an tendant vers a.\n",
    "On sait que la convergence en loi équivaut à la convergence simple des fonctions de partitions c'est-à-dire qu'on a ici, en notant $F_n$ la fonction de partition de $X_n$, pour x réel quelconque :\n",
    "$$ \n",
    "\\lim_{n \\to +\\infty} F_n(x) = \t\\int_{-inf}^x \\frac{exp(-t^2)}{\\sqrt{2\\pi}}dt = F(x)\n",
    "$$\n",
    "Par ailleurs, pour n un entier naturel et x un réel :\n",
    "$$\n",
    "\\mathbb{P}(a_nX_n\\leq x) = \\mathbb{P}(X_n\\leq  \\frac{x}{a_n}) = F_n(\\frac{x}{a_n})\n",
    "$$\n",
    "On a convergence simple de $F_n$ vers $F$ et convergence simple de la suite de fonction définie par $f_n(x) = \\frac{x}{a_n}$ vers f définie par $f(x) = \\frac{x}{a}$.\n"
   ]
  },
  {
   "cell_type": "markdown",
   "metadata": {},
   "source": [
    "**Remarque**\n",
    "\n",
    "${\\bf Z}_t=\\lim_{n \\to \\infty} Z^{(n)}_t$ est le mouvement brownien standard sur $[0,1]$. \n"
   ]
  },
  {
   "cell_type": "markdown",
   "metadata": {},
   "source": [
    "# Une construction alternative\n",
    "\n",
    "On considère maintenant la construction suivante, définie pour tout $t \\in [0,1]$:\n",
    "$$\\tilde{Z}^{(n)}_t = \\frac{1}{\\sqrt{n}}\\sum_{i=1}^n X_i (1_{[0,U_i]}(t)-1_{]U_i,1]}(t))$$\n",
    "où les $X_i$ sont définis tels que précédemment et les $U_i$ sont des variables aléatoires i.i.d. de loi uniforme sur $[0,1]$.\n",
    "Cette construction permet de définir un algorithme alternatif de simulation d'une (approximation de) trajectoire brownienne, cette fois-ci non standard au sens où on n'a pas systématiquement $\\tilde{Z}^{(n)}_0 = 0$.\n",
    "\n",
    "1. Discrétiser l'intervalle $[0,1]$ en 1000 points de manière régulière et implémenter l'algorithme (commencer par n = 1). Représenter une trajectoire pour $n = 1000$."
   ]
  },
  {
   "cell_type": "code",
   "execution_count": null,
   "metadata": {},
   "outputs": [],
   "source": []
  },
  {
   "cell_type": "markdown",
   "metadata": {},
   "source": [
    "2. Calculer l'espérance et la variance de $\\tilde{Z}^{(n)}_t$. En déduire que $\\forall t \\in [0,1],~ \\tilde{Z}^{(n)}_t\\xrightarrow[n \\to \\infty]{\\mathcal{L}}\\mathcal{N}(0,1)$. Le vérifier expérimentalement aux points $\\{0,0.25,0.5,0.75,1\\}$ sur la base d'un échantillon de 1000 réalisations de $\\tilde{Z}^{(n)}$."
   ]
  },
  {
   "cell_type": "code",
   "execution_count": null,
   "metadata": {},
   "outputs": [],
   "source": []
  },
  {
   "cell_type": "markdown",
   "metadata": {},
   "source": [
    "3. Montrer que $\\frac12\\mathbb{E}\\left(\\tilde{Z}^{(n)}_t-\\tilde{Z}^{(n)}_{t+h}\\right)^2 = h$ pour $h>0$ et tel que $t+h \\leq 1$.\n",
    "\n",
    "4. Le vérifier expérimentalement en calculant $\\frac1{2\\text{card}\\{(i,j),|t_i-t_j|=h\\}}\\sum_{|t_i-t_j|=h}(\\tilde{Z}^{n}_{t_i} - \\tilde{Z}^{n}_{t_j})^2$, où $\\text{card}\\{(i,j),|t_i-t_j|=h\\}$ représente le nombre de couples $(t_i,t_j)$ distants de $h$, pour $h \\in \\{0.001,0.002,\\ldots,0.3\\}$. Représenter graphiquement cette quantité."
   ]
  },
  {
   "cell_type": "code",
   "execution_count": null,
   "metadata": {},
   "outputs": [],
   "source": []
  },
  {
   "cell_type": "markdown",
   "metadata": {},
   "source": [
    "5. Décrire les différences et les similarités entre les deux approches."
   ]
  },
  {
   "cell_type": "markdown",
   "metadata": {},
   "source": [
    "# Génération de texture\n",
    "\n",
    "L'algorithme précédent présente la propriété d'être aisément généralisable aux dimensions supérieures, contrairement au premier. Nous allons maintenant construire pas à pas un algorithme pour simuler selon ce modèle sur le domaine $[-1, 1]^2$. Comme dans le cas 1D, on va procéder par séparations aléatoires du domaine. Pour ce faire, nous allons simuler des droites aléatoires, avec la paramétrisation suivante :\n",
    "$$x \\cos(\\alpha) + y \\sin(\\alpha) = p,$$\n",
    "où $x,y \\in [0,1]$ sont les coordonnées, $\\alpha \\sim \\mathcal{U}_{[0,\\pi]}$ est la variable d'*orientation*, $p \\sim \\mathcal{U}_{[-\\sqrt{2},\\sqrt{2}]}$ est la variable de *position*.\n",
    "\n",
    "1. Représenter 10 droites aléatoires sur le domaine $[-1, 1]^2$."
   ]
  },
  {
   "cell_type": "code",
   "execution_count": null,
   "metadata": {},
   "outputs": [],
   "source": []
  },
  {
   "cell_type": "markdown",
   "metadata": {},
   "source": [
    "2. L'étape suivante consiste à attribuer une valeur +1 ou -1 à chaque partie du domaine, délimitées par une droite aléatoire. Générer une droite aléatoire, puis assigner une valeur aléatoire +1 ou -1 en tous points d'une grille régulière de discrétisation du domaine $[-1,1]^2$ de dimensions 200x200 (voir **np.meshgrid** et **plt.pcolormesh**)."
   ]
  },
  {
   "cell_type": "code",
   "execution_count": null,
   "metadata": {},
   "outputs": [],
   "source": []
  },
  {
   "cell_type": "markdown",
   "metadata": {},
   "source": [
    "3. Combiner les résultats des deux questions précédentes pour générer une réalisation de $\\tilde{Z}$ sur $[-1,1]^2$ pour $n = 100, 1000$ et $10000$ sur la même grille de discrétisation. Commenter. "
   ]
  },
  {
   "cell_type": "code",
   "execution_count": null,
   "metadata": {},
   "outputs": [],
   "source": []
  },
  {
   "cell_type": "markdown",
   "metadata": {},
   "source": [
    "4. Calculer $\\frac1{2\\text{card}\\{(i,j),|t_i-t_j|=h\\}}\\sum_{|t_i-t_j|=h}(\\tilde{Z}^{n}_{t_i} - \\tilde{Z}^{n}_{t_j})^2$ pour $h \\in \\{0.001,0.002,\\ldots,0.3\\}$ le long des axes verticaux et horizontaux. Tracer le graphique correspondant. Commenter."
   ]
  },
  {
   "cell_type": "code",
   "execution_count": null,
   "metadata": {},
   "outputs": [],
   "source": []
  },
  {
   "cell_type": "markdown",
   "metadata": {},
   "source": [
    "5. Générer une réalisation de $\\tilde{Z}$ sur $[-10,10]^2$. On prendra soin de modifier la loi des paramètres des droites aléatoires en conséquence. Commenter. "
   ]
  },
  {
   "cell_type": "code",
   "execution_count": null,
   "metadata": {},
   "outputs": [],
   "source": []
  },
  {
   "cell_type": "markdown",
   "metadata": {},
   "source": [
    "6. Une généralisation à deux dimensions d'une discrétisation du mouvement brownien standard peut être définie de la manière suivante : notant $(x_i,y_i)$ les coordonnées des points de la grille de discrétisation du domaine $[0,1]^2$, le vecteur formé des $Z_{(x_i,y_i)}$ est gaussien, centré et de covariance $\\text{Cov} = \\min(x_i,x_j) \\times \\min(y_i,y_j)$. Proposer et implémenter un algorithme de simulation de ce modèle sur une grille régulière de discrétisation du domaine $[0,1]^2$. Quelles difficultés rencontrez-vous ?"
   ]
  },
  {
   "cell_type": "code",
   "execution_count": null,
   "metadata": {},
   "outputs": [],
   "source": []
  }
 ],
 "metadata": {
  "@webio": {
   "lastCommId": "5ceb69a5bbd14071b254c2439a58ac4b",
   "lastKernelId": "0e923419-c540-42c1-ab5f-d0e05ff4521c"
  },
  "interpreter": {
   "hash": "f522921533d2649179f334ac53b5b066697b613ca03abe8a39e886b5049f2d92"
  },
  "kernelspec": {
   "display_name": "Python 3",
   "language": "python",
   "name": "python3"
  },
  "language_info": {
   "codemirror_mode": {
    "name": "ipython",
    "version": 3
   },
   "file_extension": ".py",
   "mimetype": "text/x-python",
   "name": "python",
   "nbconvert_exporter": "python",
   "pygments_lexer": "ipython3",
   "version": "3.9.5"
  }
 },
 "nbformat": 4,
 "nbformat_minor": 2
}
