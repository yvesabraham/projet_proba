{
 "cells": [
  {
   "cell_type": "markdown",
   "metadata": {},
   "source": [
    "# Projet numérique de probabilités \n",
    "\n",
    "## Préambule\n",
    "\n",
    "Dans ce projet, on va chercher à développer un algorithme permettant de générer des textures aléatoires reprenant certaines caractéristiques du mouvement brownien.\n",
    "Dans un premier temps, on va s'intéresser à construire le mouvement brownien en une dimension comme limite d'une marche aléatoire. On verra ensuite une construction alternative qui permettra de conserver certaines de ses propriétés puis on la généralisera à 2 dimensions.\n"
   ]
  },
  {
   "cell_type": "code",
   "execution_count": 1,
   "metadata": {},
   "outputs": [],
   "source": [
    "import numpy as np\n",
    "import random as rd"
   ]
  },
  {
   "cell_type": "markdown",
   "metadata": {},
   "source": [
    "# Marche aléatoire\n",
    "\n",
    "Soit $(X_i)_{i\\in \\mathbb{N}^\\ast}$ une suite de variables aléatoires indépendantes telle que :\n",
    "\n",
    "$$\\mathbb{P}(X_i=x) = \\left\\{\\begin{array}{ll}\n",
    "\\frac{1}{2} & \\text{ si } x=1\\\\\n",
    "\\frac{1}{2} & \\text{ si } x=-1\\\\\n",
    "\\end{array}\\right.\n",
    "\\forall i\\geq 1$$\n",
    "\n",
    "On considère la suite $(Y_n)_{n \\in \\mathbb{N}}$, où $Y_0 = 0$ et \n",
    "$$Y_n=\\sum_{i=1}^{n}X_i$$\n"
   ]
  },
  {
   "cell_type": "markdown",
   "metadata": {},
   "source": [
    "1. Calculer l'espérance et la variance de $X_i$.\n",
    "2. En déduire l'espérance et la variance de $Y_n$.\n",
    "3. Montrer que $\\forall n \\in \\mathbb{N}$, $\\mathbb{P}_{Y_n|Y_{n-1} = y_{n-1}, \\ldots, Y_{0} = y_{0}} = \\mathbb{P}_{Y_n|Y_{n-1} = y_{n-1}}$. On dit que la suite $(Y_n)_{n \\in \\mathbb{N}}$ possède la propriété de Markov.\n",
    "4. Montrer que $\\mathrm{Cov}(Y_n,Y_{n'}) = \\min(n,n')$ puis que $\\frac12\\mathbb{E}\\left((Y_n-Y_{n+h})^2\\right) = h/2$, pour $h>0$. Cette dernière quantité s'appelle le variogramme de $Y_n$ et peut s'interpréter comme une quantification de sa régularité.\n",
    "5. Utiliser le théorème central limite pour montrer que\n",
    "  $$\\frac{Y_n}{\\sqrt{n}}\\xrightarrow[n \\to \\infty]{\\mathcal{L}}\\mathcal{N}(0,1),$$\n"
   ]
  },
  {
   "cell_type": "code",
   "execution_count": 2,
   "metadata": {},
   "outputs": [
    {
     "name": "stdout",
     "output_type": "stream",
     "text": [
      "Populating the interactive namespace from numpy and matplotlib\n"
     ]
    }
   ],
   "source": [
    "# chargement de dépendances\n",
    "%pylab inline\n",
    "import scipy.stats as sps"
   ]
  },
  {
   "cell_type": "code",
   "execution_count": 3,
   "metadata": {},
   "outputs": [],
   "source": [
    "# Initialisation de la graine\n",
    "np.random.seed(1234)"
   ]
  },
  {
   "cell_type": "markdown",
   "metadata": {},
   "source": [
    "# Comportement asymptotique\n",
    "\n",
    "On introduit maintenant $t_i=\\frac{i}{n}, i=0,\\ldots,n$ et\n",
    "$$Z^{(n)}_t= \\frac{Y_{[nt]}}{\\sqrt{n}}, t\\in[0,1],$$\n",
    "où $[\\cdot]$ est la partie entière.\n",
    "\n",
    "1. Montrer que $\\bigcup_{i=0}^{n-1}(t_i,t_{i+1}]$ forme une partition de $(0,1]$.\n",
    "\n",
    "2. Montrer que $Z^{(n)}_t=Z^{(n)}_{t_i}$ pour $i=[nt]$.\n",
    "\n",
    "3. Par conséquent, $Z^{(n)}_t, t\\in[0,1]$ est bien défini $\\forall t \\in [0,1]$. Implémenter un algorithme pour simuler $Z^{(n)}_t$ aux points $t_i,~ i \\in\\{0,\\ldots,n\\}$. Représenter une trajectoire pour $n$=1000.\n",
    "\n"
   ]
  },
  {
   "cell_type": "code",
   "execution_count": null,
   "metadata": {},
   "outputs": [],
   "source": []
  },
  {
   "cell_type": "markdown",
   "metadata": {},
   "source": [
    "4. Montrer que $Z^{(n)}_t\\xrightarrow[n \\to \\infty]{\\mathcal{L}}\\mathcal{N}(0,t),~\\forall t \\in [0,1]$, en déduire la loi de $Z^{(n)}_1=\\frac{Y_n}{\\sqrt{n}}$ quand $n$\n",
    "  tend vers l'infini.\n",
    "  Construire un échantillon de taille 1000 de valeurs de $Z^{(n)}_1$ pour n = 1000. Représenter son histogramme et le comparer avec la densité gaussienne standard.\n",
    "\n"
   ]
  },
  {
   "cell_type": "code",
   "execution_count": null,
   "metadata": {},
   "outputs": [],
   "source": []
  },
  {
   "cell_type": "markdown",
   "metadata": {},
   "source": [
    "**Remarque**\n",
    "\n",
    "${\\bf Z}_t=\\lim_{n \\to \\infty} Z^{(n)}_t$ est le mouvement brownien standard sur $[0,1]$. \n"
   ]
  },
  {
   "cell_type": "markdown",
   "metadata": {},
   "source": [
    "# Une construction alternative\n",
    "\n",
    "On considère maintenant la construction suivante, définie pour tout $t \\in [0,1]$:\n",
    "$$\\tilde{Z}^{(n)}_t = \\frac{1}{\\sqrt{n}}\\sum_{i=1}^n X_i (1_{[0,U_i]}(t)-1_{]U_i,1]}(t))$$\n",
    "où les $X_i$ sont définis tels que précédemment et les $U_i$ sont des variables aléatoires i.i.d. de loi uniforme sur $[0,1]$.\n",
    "Cette construction permet de définir un algorithme alternatif de simulation d'une (approximation de) trajectoire brownienne, cette fois-ci non standard au sens où on n'a pas systématiquement $\\tilde{Z}^{(n)}_0 = 0$.\n",
    "\n",
    "1. Discrétiser l'intervalle $[0,1]$ en 1000 points de manière régulière et implémenter l'algorithme (commencer par n = 1). Représenter une trajectoire pour $n = 1000$."
   ]
  },
  {
   "cell_type": "code",
   "execution_count": 4,
   "metadata": {},
   "outputs": [],
   "source": [
    "def simulation_Xi():\n",
    "    u = np.random.uniform(0,1)\n",
    "    return (u>=1/2) - (u<1/2)"
   ]
  },
  {
   "cell_type": "code",
   "execution_count": 5,
   "metadata": {},
   "outputs": [],
   "source": [
    "uniform = np.linspace(0,1,1000)\n",
    "\n",
    "def Z(n,t):\n",
    "    Z = [0] # initialisation artificielle\n",
    "    for i in range (1,n+1):\n",
    "        # simulation de Ui\n",
    "        u = np.random.uniform(0,1)\n",
    "        u = ((t<=u)-(t>u)) # 1 si t > u et -1 sinon\n",
    "\n",
    "        res = ((t<=u)-(t>u)) * simulation_Xi()\n",
    "        \n",
    "        Z.append(Z[-1] + res)\n",
    "    Z = Z[1:] # on enlève le premier élément qui n'était pas un des termes de Zn\n",
    "    Z = [z/np.sqrt(n+1) for n, z in enumerate(Z)]\n",
    "    return Z"
   ]
  },
  {
   "cell_type": "code",
   "execution_count": 9,
   "metadata": {},
   "outputs": [
    {
     "data": {
      "image/png": "[encoded data removed]",
      "text/plain": [
       "<Figure size 432x288 with 1 Axes>"
      ]
     },
     "metadata": {
      "needs_background": "light"
     },
     "output_type": "display_data"
    }
   ],
   "source": [
    "deplacement = Z(1000,0.3)\n",
    "plt.plot(uniform, deplacement)\n",
    "plt.xlabel('machin')\n",
    "plt.ylabel('truc')\n",
    "plt.show()"
   ]
  },
  {
   "cell_type": "markdown",
   "metadata": {},
   "source": [
    "2. Calculer l'espérance et la variance de $\\tilde{Z}^{(n)}_t$. En déduire que $\\forall t \\in [0,1],~ \\tilde{Z}^{(n)}_t\\xrightarrow[n \\to \\infty]{\\mathcal{L}}\\mathcal{N}(0,1)$. Le vérifier expérimentalement aux points $\\{0,0.25,0.5,0.75,1\\}$ sur la base d'un échantillon de 1000 réalisations de $\\tilde{Z}^{(n)}$."
   ]
  },
  {
   "cell_type": "markdown",
   "metadata": {},
   "source": [
    "## question 2\n",
    "\n",
    "***calcul de l'espérance de*** $\\tilde{Z}_t^{(n)}$\n",
    "\n",
    " Par linéarité de l'espérance, \n",
    "$$\n",
    "\\mathbb{E}(\\tilde{Z}_t^{(n)}) = \\frac{1}{n} \\sum_{i = 1}^n\\mathbb{E} \\bigg( X_i\\big(\\mathbb{1}_{[0, U_i]} (t) - \\mathbb{1}_{]U_i, 1]} (t) \\big) \\bigg)\n",
    "$$\n",
    "\n",
    " Or, les variables aléatoires $(X_i)_{i \\in \\mathbb{N^*}}$ et $(U_i)_{i \\in \\mathbb{N^*}}$ sont idépendantes et suivent respectivement les mêmes lois que $X_1$ et $U_1$. On a donc :\n",
    "\n",
    "$$\n",
    "\\mathbb{E}(\\tilde{Z}_t^{(n)}) = \\frac{n}{\\sqrt{n}} \\mathbb{E} \\bigg( X_1\\big(\\mathbb{1}_{[0, U_1]} (t) - \\mathbb{1}_{]U_1, 1]} (t) \\big) \\bigg)\n",
    "$$\n",
    "\n",
    "Par ailleurs, $ \\mathbb{1}_{[0, U_1]}(t)  = f (U_1) $ avec \n",
    "\n",
    "$$\\begin{array}{l|rcl}\n",
    "f : & [0,1] & \\longrightarrow & {0, 1} \\\\\n",
    "    & u & \\longmapsto & \\mathbb{1}_{[0, u]}(t) \\end{array}$$\n",
    "\n",
    "qui est mesurable. Ainsi, par transfert d'indépendance, $f(U_1)$ et $X_1$ sont indépendantes. De même, $\\mathbb{1}_{]U_1,1]}(t)$ et $X_1$ sont indépendantes. Il vient donc :\n",
    "\n",
    "$$\\begin{aligned}\n",
    " \\mathbb{E}(\\tilde{Z}_t^{(n)}) & = \\sqrt{n} \\: \\mathbb{E}(X_1) \\times \\mathbb{E}((\\mathbb{1}_{[0, U_1]} (t) - \\mathbb{1}_{]U_1, 1]} (t) ) \n",
    "\\\\ & = 0\n",
    "\\end{aligned}$$\n",
    "\n",
    "car $X$ est centrée. Ainsi, $\\mathbb{E}\\big(\\tilde{Z}_t^{(n)}\\big) = 0$.\n",
    "\n"
   ]
  },
  {
   "cell_type": "markdown",
   "metadata": {},
   "source": [
    "***calcul de la variance de*** $\\tilde{Z}_t^{(n)}$\n",
    "\n",
    "Comme montré précédement, les variables aléatoires $X_i \\big( \\mathbb{1}_{[0, U_i]} (t) - \\mathbb{1}_{]U_i, 1])} (t)\\big)$ sont indépendantes, on a donc : \n",
    "\n",
    "$$\\begin{aligned}\n",
    " \\mathbb{V}(\\tilde{Z}_t^{(n)}) &= \\frac{1}{n} \\sum_{i = 1}^n \\mathbb{V} \\bigg( X_i \\big( \\mathbb{1}_{[0, U_i]} (t) - \\mathbb{1}_{]U_i, 1]} (t)\\big) \\bigg)\n",
    " \\\\ & = \n",
    " \\mathbb{V} \\bigg( X_1 \\big( \\mathbb{1}_{[0, U_1]} (t) - \\mathbb{1}_{]U_1, 1]} (t)\\big) \\bigg)\n",
    " \\\\ & = \n",
    " \\mathbb{E}(X_1^2)\\mathbb{E}\\bigg(\\big( \\mathbb{1}_{[0, U_1]} (t) - \\mathbb{1}_{]U_1, 1]} (t)\\big)^2\\bigg) - \\mathbb{E}(X_1)^2 \\mathbb{E}\\big( \\mathbb{1}_{[0, U_1]} (t) - \\mathbb{1}_{]U_1, 1]} (t)\\big)^2 && \\text{par indépendance}\n",
    "\\\\ & = \\mathbb{E}\\bigg(\\big( \\mathbb{1}_{[0, U_1]} (t) - \\mathbb{1}_{]U_1, 1]} (t)\\big)^2\\bigg) && \\text{ car $\\mathbb{E}(X_1) = 0$ et $\\mathbb{E}(X_1^2) = 1$}\n",
    "\\end{aligned}$$\n",
    "\n",
    "Par ailleurs :\n",
    "\n",
    "$$\\begin{aligned}\n",
    " \\big( \\mathbb{1}_{[0, U_1]} (t) - \\mathbb{1}_{]U_1, 1]} (t)\\big)^2 & = \\mathbb{1}_{[0, U_1]} (t)^2 + \\mathbb{1}_{]U_1, 1]} (t)^2 - 2 \\times \\mathbb{1}_{[0, U_1]} (t) \\: \\mathbb{1}_{]U_1, 1]} (t) \n",
    " \\\\ & = \n",
    " \\mathbb{1}_{[0, U_1]} (t) + \\mathbb{1}_{]U_1, 1]} (t)\n",
    " \\\\ & = \n",
    " \\tilde{1}\n",
    "\\end{aligned}$$\n",
    "\n",
    "Ainsi, $\\mathbb{V}\\big(\\tilde{Z}_t^{(n)}\\big)$ = 1\n"
   ]
  },
  {
   "cell_type": "markdown",
   "metadata": {},
   "source": [
    "***convergence simple de*** $t \\longmapsto \\tilde{Z}^{(n)}_t$\n",
    "\n",
    "Soit $t \\in [0, 1]$. Nous avons vu précédemment que les varaibles aléatoires $\\bigg(X_i \\big( \\mathbb{1}_{[0, U_i]} (t) - \\mathbb{1}_{]U_i, 1]} (t)\\big) \\bigg)_{i \\in \\mathbb{N}^{*}}$ sont indépendantes et de même loi. Ainsi, d'après le théorème central limite, \n",
    "\n",
    "$$\\frac {\\tilde{Z}^{(n)}_t  - \\mathbb{E}(\\tilde{Z}^{(n)}_t)}{\\sqrt {\\mathbb{V}\\big(\\tilde{Z}^{(n)}_t\\big)}}\\xrightarrow[n \\to \\infty]{\\mathcal{L}}\\mathcal{N}(0,1)\n",
    "$$\n",
    "\n",
    "D'après ce  qui précède, on a donc : \n",
    "\n",
    "$$\n",
    "\\tilde{Z}^{(n)}_t\\xrightarrow[n \\to \\infty]{\\mathcal{L}}\\mathcal{N}(0,1)\n",
    "$$"
   ]
  },
  {
   "cell_type": "markdown",
   "metadata": {},
   "source": [
    "3. Montrer que $\\frac12\\mathbb{E}\\left((\\tilde{Z}^{(n)}_t-\\tilde{Z}^{(n)}_{t+h})^2\\right) =  a h$ pour $h>0$ et tel que $t+h \\leq 1$, pour une constante $a$ à déterminer."
   ]
  },
  {
   "cell_type": "markdown",
   "metadata": {},
   "source": [
    "## question 3\n",
    "\n",
    "On a : \n",
    "\n",
    "$$\n",
    "\\begin{aligned}\n",
    " \\tilde{Z}^{(n)}_t-\\tilde{Z}^{(n)}_{t+h} & = \\frac{1}{n} \\sum_{i=1}^n X_i \\bigg( \\mathbb{1}_{[0, U_i]} (t) - \\mathbb{1}_{]U_i, 1]} (t) - \\big( \\mathbb{1}_{[0, U_i]} (t + h) - \\mathbb{1}_{]U_i, 1]} (t + h) \\big)\\bigg)\n",
    "\\end{aligned}\n",
    "$$\n",
    "\n",
    "On pose $ A_i := \\mathbb{1}_{[0, U_i]} (t) - \\mathbb{1}_{]U_i, 1]} (t) - \\big( \\mathbb{1}_{[0, U_i]} (t + h) - \\mathbb{1}_{]U_i, 1]} (t + h) \\big) $\n",
    "\n",
    "Ainsi, \n",
    "\n",
    "$$\n",
    "\\begin{aligned}\n",
    " \\mathbb{E}\\bigg( \\big( \\tilde{Z}^{(n)}_t-\\tilde{Z}^{(n)}_{t+h} \\big)^2\\bigg) & = \\frac{1}{n} \\mathbb{E} \\bigg( \\sum_{i = 1}^{n} \\sum_{j = 1}^{n} X_i X_j A_i A_j \\bigg)\n",
    " \\\\ & = \n",
    " \\frac{1}{n} \\sum_{i = 1}^{n} \\sum_{j = 1}^{n} \\mathbb{E} \\big(X_i X_j A_i A_j\\big)\n",
    " \\\\ & = \n",
    " \\frac{1}{n} \\sum_{i = 1}^{n} \\sum_{j = 1}^{n} \\mathbb{E} \\big(X_i X_j \\big) \\mathbb{E} \\big( A_i A_j\\big) && \\text{par indépendance}\n",
    " \\\\ & = \n",
    " \\frac{1}{n} \\sum_{i = 1}^{n} \\mathbb{E} \\big( A_i^2\\big) && \\text{car $\\mathbb{E}\\big(X_i X_j) = \\delta_{i, j}$ pour tout $(i, j) \\in \\{ 1, \\dots, n\\}$}\n",
    " \\\\ & = \n",
    " \\mathbb{E} \\big( A_i^2\\big)\n",
    "\\end{aligned}\n",
    "$$"
   ]
  },
  {
   "cell_type": "markdown",
   "metadata": {},
   "source": [
    "On a : \n",
    "\n",
    "$$\n",
    "\\begin{aligned}\n",
    "\\bigg(\\mathbb{1}_{[0, U_i]} (t) - \\mathbb{1}_{]U_i, 1]} (t) - \\big( \\mathbb{1}_{[0, U_i]} (t + h) - \\mathbb{1}_{]U_i, 1]} (t + h) \\big)\\bigg)^2 & = \\big(\\mathbb{1}_{[0, U_i]} (t) - \\mathbb{1}_{]U_i, 1]} (t)\\big)^2 + \\big( \\mathbb{1}_{[0, U_i]} (t + h) - \\mathbb{1}_{]U_i, 1]} (t + h) \\big)^2 - 2 \\times \\big(\\mathbb{1}_{[0, U_i]} (t) - \\mathbb{1}_{]U_i, 1]} (t)\\big) \\: \\big( \\mathbb{1}_{[0, U_i]} (t + h) - \\mathbb{1}_{]U_i, 1]} (t + h) \\big)\n",
    "\\\\ & = \n",
    "\\tilde{2} - 2 \\times \\big(\\mathbb{1}_{[0, U_i]} (t) - \\mathbb{1}_{]U_i, 1]} (t)\\big) \\: \\big( \\mathbb{1}_{[0, U_i]} (t + h) - \\mathbb{1}_{]U_i, 1]} (t + h) \\big) && \\text{d'après un calcul précédent}\n",
    "\\\\ & = \n",
    "\\tilde{2} - 2 \\times \\bigg( \\mathbb{1}_{[0, U_i]} (t) \\: \\mathbb{1}_{[0, U_i]} (t + h) - \\mathbb{1}_{[0, U_i]} (t) \\: \\mathbb{1}_{]U_i, 1]} (t + h) - \\mathbb{1}_{]U_i, 1]} (t) \\mathbb{1}_{[0, U_i]} (t + h) + \\mathbb{1}_{]U_i, 1]} (t) \\: \\mathbb{1}_{]U_i, 1]} (t + h)\\bigg)\n",
    "\\\\ & = \n",
    "\\tilde{2} - 2 \\times B_i && \\text{pour alléger les notations}\n",
    "\\end{aligned}\n",
    "$$\n",
    "\n",
    "On opère les simplications suivantes : \n",
    "\n",
    "$$\n",
    "\\begin{aligned}\n",
    "\\mathbb{1}_{[0, U_i]} (t) \\: \\mathbb{1}_{[0, U_i]} (t + h) & = \\mathbb{1}_{[0, U_i]} (t + h)\n",
    "\\\\\n",
    "\\mathbb{1}_{]U_i, 1]} (t) \\: \\mathbb{1}_{]U_i, 1]} (t + h) & = \\mathbb{1}_{]U_i, 1]} (t)\n",
    "\\\\\n",
    "\\mathbb{1}_{]U_i, 1]} (t) \\mathbb{1}_{[0, U_i]} (t + h) & = \\tilde{0}\n",
    "\\end{aligned}$$\n",
    "\n",
    "et finalement, \n",
    "\n",
    "$$\\begin{aligned}\n",
    "\\mathbb{1}_{[0, U_i]} (t) \\: \\mathbb{1}_{]U_i, 1]} (t + h) & = \\mathbb{1}_{[0, U_i]} (t) \\big( \\tilde{1} - \\mathbb{1}_{[0, U_i]} (t + h) \\big)\n",
    "\\end{aligned}$$\n",
    "\n",
    "On a alors : \n",
    "\n",
    "$$\n",
    "\\begin{aligned}\n",
    " \\mathbb{E}(B_i) & = \\mathbb{E}\\big( \\mathbb{1}_{[0, U_i]} (t + h)\\big) + \\mathbb{E}\\big( \\mathbb{1}_{]U_i, 1]} (t)\\big) - \\mathbb{E}\\bigg( \\mathbb{1}_{[0, U_i]} (t) \\big( \\tilde{1} - \\mathbb{1}_{[0, U_i]} (t + h) \\big)\\bigg)\n",
    " \\\\ & = \n",
    " (t + h) + (1 - t) - \\mathbb{E}\\big( \\mathbb{1}_{[0, U_i]} (t)\\big) + \\mathbb{E} \\big( \\mathbb{1}_{[0, U_i]} (t) \\: \\mathbb{1}_{[0, U_i]} (t + h) \\big)\n",
    " \\\\ & = \n",
    " (t + h) + (1 - t) - t + \\mathbb{E} \\big(\\mathbb{1}_{[0, U_i]} (t + h) \\big)\n",
    " \\\\ & = \n",
    " (t + h) + (1 - t) - t + (t + h)\n",
    " \\\\ & = \n",
    " 1 - 2h\n",
    " \n",
    "\\end{aligned}\n",
    "$$\n",
    "\n",
    "Fianlement, on a  : \n",
    "\n",
    "$$\n",
    "\\begin{aligned}\n",
    "\\mathbb{E}\\bigg( \\big( \\tilde{Z}^{(n)}_t-\\tilde{Z}^{(n)}_{t+h} \\big)^2\\bigg) & = \\mathbb{E} (\\tilde{2} - 2 \\times B_i)\n",
    "\\\\ & = \n",
    "\\tilde{2} - 2 \\times \\mathbb{E}(B_i)\n",
    "\\\\ & = \n",
    "2 - 2 \\times ( 1 - 2h) \n",
    "\\\\ & =\n",
    "4h\n",
    "\\end{aligned}\n",
    "$$\n",
    "\n",
    "Soit encore : \n",
    "\n",
    "$$\n",
    "\\frac{1}{2} \\: \\mathbb{E}\\bigg( \\big( \\tilde{Z}^{(n)}_t-\\tilde{Z}^{(n)}_{t+h} \\big)^2\\bigg) = 2h\n",
    "$$"
   ]
  },
  {
   "cell_type": "markdown",
   "metadata": {},
   "source": [
    "4. Le vérifier expérimentalement en calculant $\\frac1{2\\text{card}\\{(i,j),|t_i-t_j|=h\\}}\\sum_{|t_i-t_j|=h}(\\tilde{Z}^{n}_{t_i} - \\tilde{Z}^{n}_{t_j})^2$, où $\\text{card}\\{(i,j),|t_i-t_j|=h\\}$ représente le nombre de couples $(t_i,t_j)$ distants de $h$, pour $h \\in \\{0.001,0.002,\\ldots,0.3\\}$. Représenter graphiquement cette quantité."
   ]
  },
  {
   "cell_type": "markdown",
   "metadata": {},
   "source": [
    "5. Décrire les différences et les similarités entre les deux approches."
   ]
  },
  {
   "cell_type": "markdown",
   "metadata": {},
   "source": [
    "# Génération de texture\n",
    "\n",
    "L'algorithme précédent présente la propriété d'être aisément généralisable aux dimensions supérieures, contrairement au premier. Nous allons maintenant construire pas à pas un algorithme pour simuler selon ce modèle sur le domaine $[-1, 1]^2$. Comme dans le cas 1D, on va procéder par séparations aléatoires du domaine. Pour ce faire, nous allons simuler des droites aléatoires, avec la paramétrisation suivante :\n",
    "$$x \\cos(\\alpha) + y \\sin(\\alpha) = p,$$\n",
    "où $x,y \\in [0,1]$ sont les coordonnées, $\\alpha \\sim \\mathcal{U}_{[0,\\pi]}$ est la variable d'*orientation*, $p \\sim \\mathcal{U}_{[-\\sqrt{2},\\sqrt{2}]}$ est la variable de *position*.\n",
    "\n",
    "On peut ainsi écrire la version 2D de $\\tilde{Z}$ de la manière suivante :\n",
    "$$\\tilde{Z}^{(n)}_{(x,y)} = \\frac{1}{\\sqrt{n}}\\sum_{i=1}^n X_i (1_{\\{x \\cos(\\alpha) + y \\sin(\\alpha) \\leq p\\}}-1_{\\{x \\cos(\\alpha) + y \\sin(\\alpha) > p\\}})$$\n",
    "\n",
    "1. Représenter 10 droites aléatoires sur le domaine $[-1, 1]^2$."
   ]
  },
  {
   "cell_type": "code",
   "execution_count": null,
   "metadata": {},
   "outputs": [],
   "source": []
  },
  {
   "cell_type": "markdown",
   "metadata": {},
   "source": [
    "2. L'étape suivante consiste à attribuer une valeur +1 ou -1 à chaque partie du domaine, délimitées par une droite aléatoire. Générer une droite aléatoire, puis assigner une valeur aléatoire +1 ou -1 en tous points d'une grille régulière de discrétisation du domaine $[-1,1]^2$ de dimensions 200x200 (voir **np.meshgrid** et **plt.pcolormesh**)."
   ]
  },
  {
   "cell_type": "code",
   "execution_count": null,
   "metadata": {},
   "outputs": [],
   "source": []
  },
  {
   "cell_type": "markdown",
   "metadata": {},
   "source": [
    "3. Combiner les résultats des deux questions précédentes pour générer une réalisation de $\\tilde{Z}$ sur $[-1,1]^2$ pour $n = 100, 1000$ et $10000$ sur la même grille de discrétisation. Commenter. "
   ]
  },
  {
   "cell_type": "code",
   "execution_count": null,
   "metadata": {},
   "outputs": [],
   "source": []
  },
  {
   "cell_type": "markdown",
   "metadata": {},
   "source": [
    "4. Calculer $\\frac1{2\\text{card}\\{(i,j),|t_i-t_j|=h\\}}\\sum_{|t_i-t_j|=h}(\\tilde{Z}^{n}_{t_i} - \\tilde{Z}^{n}_{t_j})^2$ pour $h \\in \\{0.001,0.002,\\ldots,0.3\\}$ le long des axes verticaux et horizontaux. Tracer le graphique correspondant. Commenter."
   ]
  },
  {
   "cell_type": "code",
   "execution_count": null,
   "metadata": {},
   "outputs": [],
   "source": []
  },
  {
   "cell_type": "markdown",
   "metadata": {},
   "source": [
    "5. Générer une réalisation de $\\tilde{Z}$ sur $[-10,10]^2$. On prendra soin de modifier la loi des paramètres des droites aléatoires en conséquence. Commenter. "
   ]
  },
  {
   "cell_type": "code",
   "execution_count": null,
   "metadata": {},
   "outputs": [],
   "source": []
  },
  {
   "cell_type": "markdown",
   "metadata": {},
   "source": [
    "6. Une généralisation à deux dimensions d'une discrétisation du mouvement brownien standard peut être définie de la manière suivante : notant $(x_i,y_i)$ les coordonnées des points de la grille de discrétisation du domaine $[0,1]^2$, le vecteur formé des $Z_{(x_i,y_i)}$ est gaussien, centré et de covariance $\\text{Cov} = \\min(x_i,x_j) \\times \\min(y_i,y_j)$. Proposer et implémenter un algorithme de simulation de ce modèle sur une grille régulière de discrétisation du domaine $[0,1]^2$. Quelles difficultés rencontrez-vous ?"
   ]
  },
  {
   "cell_type": "code",
   "execution_count": null,
   "metadata": {},
   "outputs": [],
   "source": []
  }
 ],
 "metadata": {
  "@webio": {
   "lastCommId": "5ceb69a5bbd14071b254c2439a58ac4b",
   "lastKernelId": "0e923419-c540-42c1-ab5f-d0e05ff4521c"
  },
  "interpreter": {
   "hash": "f522921533d2649179f334ac53b5b066697b613ca03abe8a39e886b5049f2d92"
  },
  "kernelspec": {
   "display_name": "Python 3.8.6 64-bit",
   "name": "python3"
  },
  "language_info": {
   "codemirror_mode": {
    "name": "ipython",
    "version": 3
   },
   "file_extension": ".py",
   "mimetype": "text/x-python",
   "name": "python",
   "nbconvert_exporter": "python",
   "pygments_lexer": "ipython3",
   "version": "3.9.5"
  }
 },
 "nbformat": 4,
 "nbformat_minor": 2
}
